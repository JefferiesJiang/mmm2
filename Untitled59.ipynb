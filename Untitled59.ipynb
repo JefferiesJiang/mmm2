{
  "nbformat": 4,
  "nbformat_minor": 0,
  "metadata": {
    "colab": {
      "name": "Untitled59.ipynb",
      "provenance": [],
      "authorship_tag": "ABX9TyNetH4uCYHundJyYMj3ABVf",
      "include_colab_link": true
    },
    "kernelspec": {
      "name": "python3",
      "display_name": "Python 3"
    }
  },
  "cells": [
    {
      "cell_type": "markdown",
      "metadata": {
        "id": "view-in-github",
        "colab_type": "text"
      },
      "source": [
        "<a href=\"https://colab.research.google.com/github/JefferiesJiang/mmm2/blob/master/Untitled59.ipynb\" target=\"_parent\"><img src=\"https://colab.research.google.com/assets/colab-badge.svg\" alt=\"Open In Colab\"/></a>"
      ]
    },
    {
      "cell_type": "code",
      "metadata": {
        "id": "-oH36Cffk8X-",
        "colab_type": "code",
        "colab": {
          "base_uri": "https://localhost:8080/",
          "height": 35
        },
        "outputId": "501298b0-db70-48ac-eb0b-6a445bc4fac1"
      },
      "source": [
        "def product(list):\n",
        "    p = 1\n",
        "    for i in list:\n",
        "        p *= i\n",
        "    return p\n",
        "\n",
        "\n",
        "def l(a):\n",
        "  atwo = a\n",
        "  newlst = []\n",
        "  for i,j in zip(a, range(0,len(a)-1)):\n",
        "    a.remove(a[j])\n",
        "    newlst.append(product(a))\n",
        "    a.insert(j,atwo[j])\n",
        "  return newlst\n",
        "\n",
        "print(l([1,2,3,3]))\n",
        "    \n"
      ],
      "execution_count": 37,
      "outputs": [
        {
          "output_type": "stream",
          "text": [
            "[18, 18, 18]\n"
          ],
          "name": "stdout"
        }
      ]
    },
    {
      "cell_type": "code",
      "metadata": {
        "id": "G_7fsuhglWOP",
        "colab_type": "code",
        "colab": {}
      },
      "source": [
        ""
      ],
      "execution_count": 0,
      "outputs": []
    }
  ]
}