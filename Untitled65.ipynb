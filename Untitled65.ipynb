{
  "nbformat": 4,
  "nbformat_minor": 0,
  "metadata": {
    "colab": {
      "name": "Untitled65.ipynb",
      "provenance": [],
      "collapsed_sections": [],
      "authorship_tag": "ABX9TyOk7EqSXmTLRwdV+Qcd32GS",
      "include_colab_link": true
    },
    "kernelspec": {
      "name": "python3",
      "display_name": "Python 3"
    }
  },
  "cells": [
    {
      "cell_type": "markdown",
      "metadata": {
        "id": "view-in-github",
        "colab_type": "text"
      },
      "source": [
        "<a href=\"https://colab.research.google.com/github/JefferiesJiang/mmm2/blob/master/Untitled65.ipynb\" target=\"_parent\"><img src=\"https://colab.research.google.com/assets/colab-badge.svg\" alt=\"Open In Colab\"/></a>"
      ]
    },
    {
      "cell_type": "code",
      "metadata": {
        "id": "9c1CkUjgG73B",
        "colab_type": "code",
        "colab": {}
      },
      "source": [
        "\n",
        "\n",
        "import os\n",
        "os.environ['SDL_VIDEODRIVER']='dummy'\n",
        "import pygame\n",
        "pygame.display.set_mode((640,480))\n",
        "\n",
        "\n",
        "\n",
        "for event in pygame.event.get():\n",
        "    if event.type == pygame.KEYDOWN:\n",
        "        if event.key == pygame.K_LEFT:\n",
        "            rep += 1\n",
        "        if event.key == pygame.K_RIGHT:\n",
        "            dem += 1\n",
        "        if rep == 370:\n",
        "          print(\"Trump Has Won\")\n",
        "          pygame.mixer.music.load(\"hail.mp3\")\n",
        "          pygame.mixer.music.play(5,0.0)\n",
        "        if dem == 370:\n",
        "          print(\"Obama Has won\")\n",
        "          pygame.mixer.music.load(\"hail.mp3\")\n",
        "          pygame.mixer.music.play(5,0.0)\n"
      ],
      "execution_count": 0,
      "outputs": []
    }
  ]
}